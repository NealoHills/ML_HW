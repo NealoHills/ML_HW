{
 "cells": [
  {
   "cell_type": "markdown",
   "metadata": {},
   "source": [
    "# CSCI-UA 0473 - Introduction to Machine Learning\n",
    "## Thursday, January 25, 2018"
   ]
  },
  {
   "cell_type": "markdown",
   "metadata": {},
   "source": [
    "SURVEY:\n",
    "1) Python\n",
    "2) Numpy/sklearn\n",
    "3) IPython Notebooks"
   ]
  },
  {
   "cell_type": "markdown",
   "metadata": {},
   "source": [
    "## Perceptron\n",
    "### Key Points\n",
    "SETUP: We have a set of data points $\\{(x_{1}, y_{1}), (x_{2}, y_{2}), ... , (x_{n}, y_{n})\\}$, where $x_{i} \\in R^{d}$ are the feature vectors and $y_{i} \\in \\{0, 1\\}$ are the class labels.\n",
    "\n",
    "MODEL: $\\hat{y} = sign(w.x + b)$, where $w, b \\in R^{d}$\n",
    "\n",
    "DISTANCE FUNCTION: -$(y - \\hat{y}) * (w.x + b)$\n",
    "\n",
    "LEARNING RULE: $w \\leftarrow w + \\eta * (y - \\hat{y}) * x$"
   ]
  },
  {
   "cell_type": "code",
   "execution_count": 22,
   "metadata": {
    "collapsed": true
   },
   "outputs": [],
   "source": [
    "# Loading the required libraries\n",
    "\n",
    "%matplotlib notebook \n",
    "%matplotlib inline\n",
    "\n",
    "import numpy\n",
    "import matplotlib.pyplot as plot\n",
    "\n",
    "import matplotlib\n",
    "matplotlib.rc('text', usetex=True)"
   ]
  },
  {
   "cell_type": "code",
   "execution_count": 23,
   "metadata": {
    "collapsed": true
   },
   "outputs": [],
   "source": [
    "# Setting a random seed\n",
    "numpy.random.seed(1234)"
   ]
  },
  {
   "cell_type": "markdown",
   "metadata": {},
   "source": [
    "## 1. Data Preparation"
   ]
  },
  {
   "cell_type": "code",
   "execution_count": 24,
   "metadata": {
    "collapsed": true
   },
   "outputs": [],
   "source": [
    "# Sample dataset preparation\n",
    "\n",
    "from sklearn.datasets import make_blobs\n",
    "n_dim = 2\n",
    "x_train, y_train = make_blobs(n_samples=100, n_features=n_dim, centers=[[1,1],[-1,-1]], shuffle=True)\n",
    "x_test, y_test = make_blobs(n_samples=100, n_features=n_dim, centers=[[1,1],[-1,-1]], shuffle=True)\n"
   ]
  },
  {
   "cell_type": "code",
   "execution_count": 25,
   "metadata": {
    "collapsed": true
   },
   "outputs": [],
   "source": [
    "# Visualize data \n",
    "def vis_data(x, y, c='r', open_figure=False):\n",
    "    if open_figure:\n",
    "        plot.figure()\n",
    "    for x_, y_ in zip(x, y):\n",
    "        plot.plot(x_[0], x_[1], c+'o' if y_ == 0 else c+'+')\n",
    "    plot.grid('on')\n",
    "    plot.title('giwengieb')\n",
    "    plot.show()"
   ]
  },
  {
   "cell_type": "code",
   "execution_count": 26,
   "metadata": {},
   "outputs": [
    {
     "data": {
      "image/png": "[encoded data removed]",
      "text/plain": [
       "<matplotlib.figure.Figure at 0x1a126480588>"
      ]
     },
     "metadata": {},
     "output_type": "display_data"
    }
   ],
   "source": [
    "# Visualize TRAINING data\n",
    "vis_data(x_train, y_train, open_figure=True)"
   ]
  },
  {
   "cell_type": "code",
   "execution_count": 27,
   "metadata": {},
   "outputs": [
    {
     "data": {
      "image/png": "[encoded data removed]",
      "text/plain": [
       "<matplotlib.figure.Figure at 0x1a125d30940>"
      ]
     },
     "metadata": {},
     "output_type": "display_data"
    }
   ],
   "source": [
    "# Visualize TEST data\n",
    "vis_data(x_test, y_test, open_figure=True)"
   ]
  },
  {
   "cell_type": "markdown",
   "metadata": {},
   "source": [
    "## 2. Model Definition"
   ]
  },
  {
   "cell_type": "code",
   "execution_count": 28,
   "metadata": {
    "collapsed": true
   },
   "outputs": [],
   "source": [
    "'''\n",
    "Basic functionality of the perceptron model.\n",
    "\n",
    "INPUT: Feature vector (x) and a weight vector (w)\n",
    "OUTPUT: Returns the sign of w.x or the value of w.x\n",
    "'''\n",
    "\n",
    "def perceptron(x, w, pre=False):\n",
    "    def sign(y):\n",
    "        return numpy.maximum(0., numpy.sign(y))\n",
    "    \n",
    "    x = x.reshape([1, -1]) if len(x.shape) < 2 else x\n",
    "    \n",
    "    y = numpy.sum(x * w[None,:-1], axis=1) + w[-1]\n",
    "    if pre:\n",
    "        return y    \n",
    "    return sign(y)"
   ]
  },
  {
   "cell_type": "code",
   "execution_count": 29,
   "metadata": {
    "collapsed": true
   },
   "outputs": [],
   "source": [
    "'''\n",
    "Distance function for the perceptron model.\n",
    "\n",
    "INPUT: True labels of data points, feature vectors of data points and a weight vector\n",
    "OUTPUT: Value of the distance for each data point or the average distance\n",
    "'''\n",
    "\n",
    "def perceptron_dist(y, x, w, avg=False):\n",
    "    y_ = perceptron(x, w)\n",
    "    d = -(y - y_) * perceptron(x, w, pre=True)\n",
    "    if not avg:\n",
    "        return d\n",
    "    return numpy.mean(d)"
   ]
  },
  {
   "cell_type": "code",
   "execution_count": 30,
   "metadata": {
    "collapsed": true
   },
   "outputs": [],
   "source": [
    "'''\n",
    "Learning rule for the perceptron model.\n",
    "\n",
    "INPUT: True labels of data points, feature vectors of data points and a weight vector\n",
    "OUTPUT: Update direction for the weight vector\n",
    "'''\n",
    "\n",
    "def perceptron_rule(y, x, w):\n",
    "    y_ = perceptron(x, w)\n",
    "    dw = numpy.zeros(w.shape)\n",
    "    dw[:-1] = numpy.mean((y - y_)[:, None] * x, axis=0)\n",
    "    dw[-1] = numpy.mean(y - y_)\n",
    "    return dw"
   ]
  },
  {
   "cell_type": "markdown",
   "metadata": {},
   "source": [
    "## 3. Learning Process"
   ]
  },
  {
   "cell_type": "code",
   "execution_count": 31,
   "metadata": {
    "scrolled": true
   },
   "outputs": [
    {
     "name": "stdout",
     "output_type": "stream",
     "text": [
      "Perceptron cost 1.5330 after iteration 0\n",
      "Perceptron cost 1.3090 after iteration 1\n",
      "Perceptron cost 1.0851 after iteration 2\n",
      "Perceptron cost 0.8612 after iteration 3\n",
      "Perceptron cost 0.6373 after iteration 4\n",
      "Perceptron cost 0.4134 after iteration 5\n",
      "Perceptron cost 0.1896 after iteration 6\n",
      "Perceptron cost 0.0007 after iteration 7\n",
      "Perceptron cost 0.0002 after iteration 8\n",
      "Perceptron cost 0.0002 after iteration 9\n",
      "Perceptron cost 0.0001 after iteration 10\n",
      "Perceptron cost 0.0002 after iteration 11\n",
      "Converged\n"
     ]
    }
   ],
   "source": [
    "# Random initial weight vector\n",
    "w0 = numpy.random.randn(n_dim+1); w0[-1] = 0.\n",
    "w = numpy.copy(w0)\n",
    "\n",
    "# Training Parameters\n",
    "n_iter = 1000\n",
    "eta = .1     # Learning rate\n",
    "old_cost = numpy.Inf\n",
    "\n",
    "# Training\n",
    "for ni in range(n_iter):\n",
    "    pred_y = perceptron(x_train, w)    # Dimension of 'pred_y'?\n",
    "    \n",
    "    w += eta * perceptron_rule(y_train, x_train, w)  # Updating the weight vector \n",
    "    \n",
    "    cost = perceptron_dist(y_train, x_train, w, avg=True)\n",
    "    \n",
    "    print('Perceptron cost {:.4f} after iteration {}'.format(cost, ni))\n",
    "    \n",
    "    if cost < 1e-16 or cost / old_cost >= 1.:\n",
    "        print('Converged')\n",
    "        break\n",
    "    old_cost = cost"
   ]
  },
  {
   "cell_type": "code",
   "execution_count": 32,
   "metadata": {},
   "outputs": [
    {
     "name": "stdout",
     "output_type": "stream",
     "text": [
      "Initial: 0.901 x_1 + 0.753 x_2 + 0.000 = 0\n",
      "Final: -0.017 x_1 + -0.010 x_2 + 0.003 = 0\n"
     ]
    }
   ],
   "source": [
    "print('Initial: {:.3f} x_1 + {:.3f} x_2 + {:.3f} = 0'.format(*list(w0)))\n",
    "print('Final: {:.3f} x_1 + {:.3f} x_2 + {:.3f} = 0'.format(*list(w)))"
   ]
  },
  {
   "cell_type": "markdown",
   "metadata": {},
   "source": [
    "## 4. Visualize Final Model"
   ]
  },
  {
   "cell_type": "code",
   "execution_count": 33,
   "metadata": {
    "collapsed": true
   },
   "outputs": [],
   "source": [
    "def vis_hyperplane(w, typ='k--'):\n",
    "\n",
    "    lim0 = plot.gca().get_xlim()\n",
    "    lim1 = plot.gca().get_ylim()\n",
    "    m0, m1 = lim0[0], lim0[1]\n",
    "\n",
    "    intercept0 = -(w[0] * m0 + w[-1])/w[1]\n",
    "    intercept1 = -(w[0] * m1 + w[-1])/w[1]\n",
    "    \n",
    "    plt1, = plot.plot([m0, m1], [intercept0, intercept1], typ)\n",
    "\n",
    "    plot.gca().set_xlim(lim0)\n",
    "    plot.gca().set_ylim(lim1)\n",
    "    \n",
    "    \n",
    "    return plt1"
   ]
  },
  {
   "cell_type": "code",
   "execution_count": 34,
   "metadata": {
    "scrolled": false
   },
   "outputs": [
    {
     "data": {
      "image/png": "[encoded data removed]",
      "text/plain": [
       "<matplotlib.figure.Figure at 0x1a125eea080>"
      ]
     },
     "metadata": {},
     "output_type": "display_data"
    },
    {
     "name": "stderr",
     "output_type": "stream",
     "text": [
      "C:\\IntelPython3\\lib\\site-packages\\matplotlib\\axes\\_axes.py:545: UserWarning: No labelled objects found. Use label='...' kwarg on individual plots.\n",
      "  warnings.warn(\"No labelled objects found. \"\n"
     ]
    },
    {
     "data": {
      "text/plain": [
       "<matplotlib.text.Text at 0x1a1276eaac8>"
      ]
     },
     "execution_count": 34,
     "metadata": {},
     "output_type": "execute_result"
    },
    {
     "data": {
      "image/png": "[encoded data removed]",
      "text/plain": [
       "<matplotlib.figure.Figure at 0x1a125ef1748>"
      ]
     },
     "metadata": {},
     "output_type": "display_data"
    }
   ],
   "source": [
    "# Decision boundary learned using training data\n",
    "\n",
    "plot.figure()\n",
    "\n",
    "vis_data(x_train, y_train)\n",
    "\n",
    "plt0 = vis_hyperplane(w0, 'k-.')\n",
    "plt1 = vis_hyperplane(w, 'k--')\n",
    "\n",
    "\n",
    "plot.legend([plt0, plt1], [\n",
    "        'Initial: {:.3f} x_1 + {:.3f} x_2 + {:.3f} = 0'.format(*list(w0)),\n",
    "        'Final: {:.3f} x_1 + {:.3f} x_2 + {:.3f} = 0'.format(*list(w))],\n",
    "           loc='upper right')\n",
    "\n",
    "plot.legend(fontsize = 20, loc = 'best')\n",
    "plot.title('Decision boundary learned using training data')\n",
    "#plot.show()"
   ]
  },
  {
   "cell_type": "markdown",
   "metadata": {},
   "source": [
    "## 5. Testing"
   ]
  },
  {
   "cell_type": "code",
   "execution_count": 35,
   "metadata": {},
   "outputs": [
    {
     "data": {
      "image/png": "[encoded data removed]",
      "text/plain": [
       "<matplotlib.figure.Figure at 0x1a125f116d8>"
      ]
     },
     "metadata": {},
     "output_type": "display_data"
    },
    {
     "name": "stderr",
     "output_type": "stream",
     "text": [
      "C:\\IntelPython3\\lib\\site-packages\\matplotlib\\axes\\_axes.py:545: UserWarning: No labelled objects found. Use label='...' kwarg on individual plots.\n",
      "  warnings.warn(\"No labelled objects found. \"\n"
     ]
    },
    {
     "data": {
      "text/plain": [
       "<matplotlib.text.Text at 0x1a125d445c0>"
      ]
     },
     "execution_count": 35,
     "metadata": {},
     "output_type": "execute_result"
    },
    {
     "data": {
      "image/png": "[encoded data removed]",
      "text/plain": [
       "<matplotlib.figure.Figure at 0x1a1277534e0>"
      ]
     },
     "metadata": {},
     "output_type": "display_data"
    }
   ],
   "source": [
    "# Decision boundary on test data\n",
    "\n",
    "plot.figure()\n",
    "\n",
    "vis_data(x_test, y_test, 'b')\n",
    "\n",
    "plt1 = vis_hyperplane(w, 'k--')\n",
    "\n",
    "\n",
    "plot.legend([plt0, plt1], [\n",
    "        'Initial: {:.3f} x_1 + {:.3f} x_2 + {:.3f} = 0'.format(*list(w0)),\n",
    "        'Final: {:.3f} x_1 + {:.3f} x_2 + {:.3f} = 0'.format(*list(w))],\n",
    "           loc='upper right')\n",
    "\n",
    "plot.legend(fontsize = 20, loc = 'best')\n",
    "plot.title('Decision boundary on test data')\n",
    "#plot.show()"
   ]
  },
  {
   "cell_type": "code",
   "execution_count": 36,
   "metadata": {},
   "outputs": [
    {
     "name": "stdout",
     "output_type": "stream",
     "text": [
      "Training error rate 0.04, Test error rate 0.13\n"
     ]
    }
   ],
   "source": [
    "train_error = numpy.sum(numpy.abs(perceptron(x_train, w) - y_train)) / numpy.float(len(y_train))\n",
    "test_error = numpy.sum(numpy.abs(perceptron(x_test, w) - y_test)) / numpy.float(len(y_test))\n",
    "\n",
    "print('Training error rate {}, Test error rate {}'.format(train_error, test_error))"
   ]
  },
  {
   "cell_type": "markdown",
   "metadata": {},
   "source": [
    "## 6. HOMEWORK - Use scikit-learn to replicate the above operations"
   ]
  },
  {
   "cell_type": "code",
   "execution_count": 37,
   "metadata": {
    "collapsed": true
   },
   "outputs": [],
   "source": [
    "# Use this cell to import required packages of sklearn\n",
    "\n",
    "from sklearn.linear_model import Perceptron\n",
    "#from sklearn.linear_model import linear_regression"
   ]
  },
  {
   "cell_type": "code",
   "execution_count": 89,
   "metadata": {
    "collapsed": true
   },
   "outputs": [],
   "source": [
    "# STEP 1: Create a Perceptron class instance\n",
    "\n",
    "perceptron_instance = Perceptron(fit_intercept=True, random_state=1234, max_iter=1000, eta0 = 0.0045)"
   ]
  },
  {
   "cell_type": "code",
   "execution_count": 90,
   "metadata": {},
   "outputs": [
    {
     "data": {
      "text/plain": [
       "Perceptron(alpha=0.0001, class_weight=None, eta0=0.0045, fit_intercept=True,\n",
       "      max_iter=1000, n_iter=None, n_jobs=1, penalty=None,\n",
       "      random_state=1234, shuffle=True, tol=None, verbose=0,\n",
       "      warm_start=False)"
      ]
     },
     "execution_count": 90,
     "metadata": {},
     "output_type": "execute_result"
    }
   ],
   "source": [
    "# STEP 2: Fit the perceptron model to the training data\n",
    "\n",
    "our_w = numpy.copy(w0)\n",
    "perceptron_instance.fit(X=x_train, y=y_train)#, coef_init=our_w)"
   ]
  },
  {
   "cell_type": "code",
   "execution_count": 91,
   "metadata": {
    "collapsed": true
   },
   "outputs": [],
   "source": [
    "# STEP 3: Obtain the coefficients of the learned model (read the documentation to find out how)\n",
    "# Uncomment and complete the following\n",
    "\n",
    "sk_w = numpy.append(perceptron_instance.coef_[0], perceptron_instance.intercept_)"
   ]
  },
  {
   "cell_type": "code",
   "execution_count": 92,
   "metadata": {},
   "outputs": [
    {
     "name": "stdout",
     "output_type": "stream",
     "text": [
      "Custom : -0.017 x_1 + -0.010 x_2 + 0.003 = 0\n",
      "Sklearn: -0.018 x_1 + -0.010 x_2 + -0.000 = 0\n",
      "1.677\n",
      "1.877\n"
     ]
    }
   ],
   "source": [
    "# STEP 4: Compare the feature coefficients obtained by sklearn and the custom module we have\n",
    "\n",
    "# Note: Print the equations of the model learned by both implementations and comment about what you observe.\n",
    "# Uncomment and complete the following\n",
    "\n",
    "print('Custom : {:.3f} x_1 + {:.3f} x_2 + {:.3f} = 0'.format(*list(w)))\n",
    "print('Sklearn: {:.3f} x_1 + {:.3f} x_2 + {:.3f} = 0'.format(*sk_w))\n",
    "\n",
    "print('{:.3f}'.format(w[0]/w[1]))\n",
    "print('{:.3f}'.format(sk_w[0]/sk_w[1]))\n",
    "\n",
    "# From playing arround with the values it seems that the parameters that most effect what plane we're getting\n",
    "# are whether or not we assume that the intercept should be learned or the data is already centered and what\n",
    "# our tolerance is for stopping learning. When changing the eta from 0.1 to 0.01 the empirical values of x_1\n",
    "# and x_2 get 10x smaller, but the angle of the learned decision boundary is the same."
   ]
  },
  {
   "cell_type": "code",
   "execution_count": 93,
   "metadata": {},
   "outputs": [
    {
     "name": "stdout",
     "output_type": "stream",
     "text": [
      "Training error rate 0.04, Test error rate 0.13\n"
     ]
    }
   ],
   "source": [
    "# STEP 5: Predict the class of test data points. Print the TRAINING and TEST accuracy.\n",
    "# Uncomment and complete the following\n",
    "\n",
    "print('Training error rate {}, Test error rate {}'.format(train_error, test_error))"
   ]
  }
 ],
 "metadata": {
  "kernelspec": {
   "display_name": "Python 3",
   "language": "python",
   "name": "python3"
  },
  "language_info": {
   "codemirror_mode": {
    "name": "ipython",
    "version": 3
   },
   "file_extension": ".py",
   "mimetype": "text/x-python",
   "name": "python",
   "nbconvert_exporter": "python",
   "pygments_lexer": "ipython3",
   "version": "3.6.3"
  }
 },
 "nbformat": 4,
 "nbformat_minor": 1
}
